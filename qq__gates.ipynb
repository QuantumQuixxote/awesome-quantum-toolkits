from qiskit import QuantumCircuit, QuantumRegister, ClassicalRegister
from qiskit import execute, transpile, Aer

from qiskit.circuit.library import CXGate, TGate, TdgGate, SGate, SdgGate, XGate, ZGate, HGate
